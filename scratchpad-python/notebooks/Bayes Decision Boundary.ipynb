{
 "cells": [
  {
   "cell_type": "code",
   "execution_count": 1,
   "metadata": {
    "scrolled": true
   },
   "outputs": [
    {
     "name": "stdout",
     "output_type": "stream",
     "text": [
      "[[0, 1, 2, 3, 4, 5, 6, 7, 8, 9], [5, 3, 1, -1, -3, -5, -7, -9, -11, -13]]\n",
      "[ 4.5 -4. ]\n",
      "[[  9.16666667 -18.33333333]\n",
      " [-18.33333333  36.66666667]]\n"
     ]
    }
   ],
   "source": [
    "import numpy as np\n",
    "import matplotlib.pyplot as plt\n",
    "\n",
    "x = [[1, 4],\n",
    "     [2, 5],\n",
    "     [3, 6],\n",
    "     [4, 7],\n",
    "     [5, 8]]\n",
    "x = np.array(x).T\n",
    "\n",
    "x = [[i for i in range(0, 10)],\n",
    "     [j-5 for j in range(10, -10, -2)]]\n",
    "print(x)\n",
    "x = np.array(x)\n",
    "\n",
    "mean_x = np.mean(x, axis=1)\n",
    "print(mean_x)\n",
    "covariance_x = np.cov(x)\n",
    "print(covariance_x)\n",
    "\n",
    "# plt.figure()\n",
    "# plt.scatter(x[0], x[1])\n",
    "# plt.show()\n"
   ]
  },
  {
   "cell_type": "markdown",
   "metadata": {},
   "source": [
    "# Bayes Decision Boundary"
   ]
  },
  {
   "cell_type": "code",
   "execution_count": 39,
   "metadata": {
    "scrolled": true
   },
   "outputs": [
    {
     "data": {
      "image/png": "[encoded data removed]",
      "text/plain": [
       "<Figure size 432x288 with 1 Axes>"
      ]
     },
     "metadata": {},
     "output_type": "display_data"
    }
   ],
   "source": [
    "%matplotlib inline\n",
    "\n",
    "import numpy as np\n",
    "import matplotlib.pyplot as plt\n",
    "\n",
    "mean_0 = np.array([8.5, 25]).T\n",
    "mean_1 = np.array([15, 40]).T\n",
    "\n",
    "covariance_0 = [[3, 0],\n",
    "                [0, 2]]\n",
    "covariance_1 = [[1, 0],\n",
    "                [0, 2]]\n",
    "\n",
    "plt.figure()\n",
    "\n",
    "# Class 0\n",
    "x, y = np.random.multivariate_normal(mean_0, covariance_0, 1000).T\n",
    "plt.plot(x, y, '.')\n",
    "\n",
    "# Class 1\n",
    "x, y = np.random.multivariate_normal(mean_1, covariance_1, 1000).T\n",
    "plt.plot(x, y, 'x')\n",
    "\n",
    "# Decision Boundary\n",
    "# def get_x2(x1):\n",
    "#     return (2 * np.log(2 / np.sqrt(3)) + 1958.25 - 2 * x1 * x1 + 21 * x1) / 60\n",
    "\n",
    "def get_x2(x1):\n",
    "    return 2 / 15 * (np.log(np.sqrt(3)) + 1 / 3 * x1 * x1 - 73 / 6 * x1 + 8261 / 24)\n",
    "\n",
    "x1 = [i for i in range (0, 25)]\n",
    "x2 = [get_x2(i) for i in x1]\n",
    "plt.plot(x1, x2, 's')\n",
    "\n",
    "plt.show()"
   ]
  },
  {
   "cell_type": "code",
   "execution_count": 46,
   "metadata": {},
   "outputs": [],
   "source": [
    "from scipy.stats import multivariate_normal\n",
    "var_0 = multivariate_normal(mean=mean_0, cov=covariance_0)\n",
    "var_1 = multivariate_normal(mean=mean_1, cov=covariance_1)\n",
    "\n",
    "x = np.linspace(0, 25, 1000)\n",
    "y = np.linspace(20, 45, 1000)\n",
    "X, Y = np.meshgrid(x, y)\n",
    "pos = np.empty(X.shape + (2,))\n",
    "pos[:, :, 0] = X\n",
    "pos[:, :, 1] = Y"
   ]
  },
  {
   "cell_type": "code",
   "execution_count": 51,
   "metadata": {},
   "outputs": [
    {
     "data": {
      "image/png": "[encoded data removed]",
      "text/plain": [
       "<Figure size 432x288 with 1 Axes>"
      ]
     },
     "metadata": {},
     "output_type": "display_data"
    }
   ],
   "source": [
    "plt.figure()\n",
    "plt.contourf(X, Y, var_0.pdf(pos) - var_1.pdf(pos))\n",
    "plt.show()"
   ]
  }
 ],
 "metadata": {
  "kernelspec": {
   "display_name": "Python 3",
   "language": "python",
   "name": "python3"
  },
  "language_info": {
   "codemirror_mode": {
    "name": "ipython",
    "version": 3
   },
   "file_extension": ".py",
   "mimetype": "text/x-python",
   "name": "python",
   "nbconvert_exporter": "python",
   "pygments_lexer": "ipython3",
   "version": "3.6.2"
  }
 },
 "nbformat": 4,
 "nbformat_minor": 1
}
